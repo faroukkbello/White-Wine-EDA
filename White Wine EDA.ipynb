{
 "cells": [
  {
   "cell_type": "markdown",
   "id": "d85ab701",
   "metadata": {},
   "source": [
    "# Exploratory Data Analysis on White Wine Dataset"
   ]
  },
  {
   "cell_type": "markdown",
   "id": "579075f2",
   "metadata": {},
   "source": [
    "Source: https://archive.ics.uci.edu/ml/datasets/wine+quality"
   ]
  },
  {
   "cell_type": "markdown",
   "id": "eea425bc",
   "metadata": {},
   "source": [
    "#### Agenda"
   ]
  },
  {
   "cell_type": "markdown",
   "id": "ab946343",
   "metadata": {},
   "source": [
    "- Load the dataset\n",
    "- Check for data quality issues\n",
    "- Transform the data(if needed)\n",
    "- Analyze and visualize the data"
   ]
  },
  {
   "cell_type": "markdown",
   "id": "d1797c39",
   "metadata": {},
   "source": [
    "Preparation"
   ]
  },
  {
   "cell_type": "code",
   "execution_count": null,
   "id": "f3eb3ce7",
   "metadata": {},
   "outputs": [],
   "source": [
    "# import "
   ]
  }
 ],
 "metadata": {
  "kernelspec": {
   "display_name": "Python 3 (ipykernel)",
   "language": "python",
   "name": "python3"
  },
  "language_info": {
   "codemirror_mode": {
    "name": "ipython",
    "version": 3
   },
   "file_extension": ".py",
   "mimetype": "text/x-python",
   "name": "python",
   "nbconvert_exporter": "python",
   "pygments_lexer": "ipython3",
   "version": "3.9.12"
  }
 },
 "nbformat": 4,
 "nbformat_minor": 5
}
